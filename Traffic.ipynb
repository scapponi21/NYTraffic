{
 "cells": [
  {
   "cell_type": "markdown",
   "id": "687c7d5b",
   "metadata": {},
   "source": [
    "# NYC Taxi ride duration prediction"
   ]
  },
  {
   "cell_type": "code",
   "execution_count": null,
   "id": "35668025",
   "metadata": {
    "vscode": {
     "languageId": "plaintext"
    }
   },
   "outputs": [],
   "source": []
  }
 ],
 "metadata": {
  "language_info": {
   "name": "python"
  }
 },
 "nbformat": 4,
 "nbformat_minor": 5
}
