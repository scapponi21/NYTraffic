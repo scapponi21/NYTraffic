{
 "cells": [
  {
   "cell_type": "markdown",
   "id": "055a05ae",
   "metadata": {},
   "source": []
  },
  {
   "cell_type": "markdown",
   "id": "0412f64c",
   "metadata": {},
   "source": [
    "## Imports"
   ]
  },
  {
   "cell_type": "code",
   "execution_count": 1,
   "id": "d11f0e1e",
   "metadata": {},
   "outputs": [],
   "source": [
    "import numpy as np\n",
    "import os\n",
    "# import pickle\n",
    "import pandas as pd\n",
    "import matplotlib.pyplot as plt"
   ]
  },
  {
   "cell_type": "code",
   "execution_count": 2,
   "id": "18a3a9fb",
   "metadata": {},
   "outputs": [
    {
     "name": "stdout",
     "output_type": "stream",
     "text": [
      "The first file name is https://d37ci6vzurychx.cloudfront.net/trip-data/green_tripdata_2023-10.parquet\n",
      "The second file name is https://d37ci6vzurychx.cloudfront.net/trip-data/yellow_tripdata_2023-01.parquet\n"
     ]
    },
    {
     "data": {
      "text/html": [
       "<div>\n",
       "<style scoped>\n",
       "    .dataframe tbody tr th:only-of-type {\n",
       "        vertical-align: middle;\n",
       "    }\n",
       "\n",
       "    .dataframe tbody tr th {\n",
       "        vertical-align: top;\n",
       "    }\n",
       "\n",
       "    .dataframe thead th {\n",
       "        text-align: right;\n",
       "    }\n",
       "</style>\n",
       "<table border=\"1\" class=\"dataframe\">\n",
       "  <thead>\n",
       "    <tr style=\"text-align: right;\">\n",
       "      <th></th>\n",
       "      <th>VendorID</th>\n",
       "      <th>lpep_pickup_datetime</th>\n",
       "      <th>lpep_dropoff_datetime</th>\n",
       "      <th>store_and_fwd_flag</th>\n",
       "      <th>RatecodeID</th>\n",
       "      <th>PULocationID</th>\n",
       "      <th>DOLocationID</th>\n",
       "      <th>passenger_count</th>\n",
       "      <th>trip_distance</th>\n",
       "      <th>fare_amount</th>\n",
       "      <th>extra</th>\n",
       "      <th>mta_tax</th>\n",
       "      <th>tip_amount</th>\n",
       "      <th>tolls_amount</th>\n",
       "      <th>ehail_fee</th>\n",
       "      <th>improvement_surcharge</th>\n",
       "      <th>total_amount</th>\n",
       "      <th>payment_type</th>\n",
       "      <th>trip_type</th>\n",
       "      <th>congestion_surcharge</th>\n",
       "    </tr>\n",
       "  </thead>\n",
       "  <tbody>\n",
       "    <tr>\n",
       "      <th>0</th>\n",
       "      <td>2</td>\n",
       "      <td>2023-10-01 00:57:33</td>\n",
       "      <td>2023-10-01 01:07:58</td>\n",
       "      <td>N</td>\n",
       "      <td>1.0</td>\n",
       "      <td>166</td>\n",
       "      <td>74</td>\n",
       "      <td>1.0</td>\n",
       "      <td>1.45</td>\n",
       "      <td>12.1</td>\n",
       "      <td>1.0</td>\n",
       "      <td>0.5</td>\n",
       "      <td>2.92</td>\n",
       "      <td>0.0</td>\n",
       "      <td>NaN</td>\n",
       "      <td>1.0</td>\n",
       "      <td>17.52</td>\n",
       "      <td>1.0</td>\n",
       "      <td>1.0</td>\n",
       "      <td>0.00</td>\n",
       "    </tr>\n",
       "    <tr>\n",
       "      <th>1</th>\n",
       "      <td>2</td>\n",
       "      <td>2023-10-01 01:00:16</td>\n",
       "      <td>2023-10-01 01:06:13</td>\n",
       "      <td>N</td>\n",
       "      <td>1.0</td>\n",
       "      <td>74</td>\n",
       "      <td>42</td>\n",
       "      <td>1.0</td>\n",
       "      <td>0.89</td>\n",
       "      <td>7.9</td>\n",
       "      <td>1.0</td>\n",
       "      <td>0.5</td>\n",
       "      <td>0.00</td>\n",
       "      <td>0.0</td>\n",
       "      <td>NaN</td>\n",
       "      <td>1.0</td>\n",
       "      <td>10.40</td>\n",
       "      <td>2.0</td>\n",
       "      <td>1.0</td>\n",
       "      <td>0.00</td>\n",
       "    </tr>\n",
       "    <tr>\n",
       "      <th>2</th>\n",
       "      <td>2</td>\n",
       "      <td>2023-10-01 00:51:52</td>\n",
       "      <td>2023-10-01 01:00:32</td>\n",
       "      <td>N</td>\n",
       "      <td>1.0</td>\n",
       "      <td>83</td>\n",
       "      <td>129</td>\n",
       "      <td>1.0</td>\n",
       "      <td>2.38</td>\n",
       "      <td>13.5</td>\n",
       "      <td>1.0</td>\n",
       "      <td>0.5</td>\n",
       "      <td>0.00</td>\n",
       "      <td>0.0</td>\n",
       "      <td>NaN</td>\n",
       "      <td>1.0</td>\n",
       "      <td>16.00</td>\n",
       "      <td>2.0</td>\n",
       "      <td>1.0</td>\n",
       "      <td>0.00</td>\n",
       "    </tr>\n",
       "    <tr>\n",
       "      <th>3</th>\n",
       "      <td>2</td>\n",
       "      <td>2023-10-01 00:03:39</td>\n",
       "      <td>2023-10-01 00:11:20</td>\n",
       "      <td>N</td>\n",
       "      <td>1.0</td>\n",
       "      <td>74</td>\n",
       "      <td>263</td>\n",
       "      <td>1.0</td>\n",
       "      <td>2.26</td>\n",
       "      <td>11.4</td>\n",
       "      <td>1.0</td>\n",
       "      <td>0.5</td>\n",
       "      <td>3.33</td>\n",
       "      <td>0.0</td>\n",
       "      <td>NaN</td>\n",
       "      <td>1.0</td>\n",
       "      <td>19.98</td>\n",
       "      <td>1.0</td>\n",
       "      <td>1.0</td>\n",
       "      <td>2.75</td>\n",
       "    </tr>\n",
       "    <tr>\n",
       "      <th>4</th>\n",
       "      <td>2</td>\n",
       "      <td>2023-10-01 00:27:42</td>\n",
       "      <td>2023-10-01 00:39:10</td>\n",
       "      <td>N</td>\n",
       "      <td>1.0</td>\n",
       "      <td>74</td>\n",
       "      <td>236</td>\n",
       "      <td>1.0</td>\n",
       "      <td>2.14</td>\n",
       "      <td>13.5</td>\n",
       "      <td>1.0</td>\n",
       "      <td>0.5</td>\n",
       "      <td>2.81</td>\n",
       "      <td>0.0</td>\n",
       "      <td>NaN</td>\n",
       "      <td>1.0</td>\n",
       "      <td>21.56</td>\n",
       "      <td>1.0</td>\n",
       "      <td>1.0</td>\n",
       "      <td>2.75</td>\n",
       "    </tr>\n",
       "  </tbody>\n",
       "</table>\n",
       "</div>"
      ],
      "text/plain": [
       "   VendorID lpep_pickup_datetime lpep_dropoff_datetime store_and_fwd_flag  \\\n",
       "0         2  2023-10-01 00:57:33   2023-10-01 01:07:58                  N   \n",
       "1         2  2023-10-01 01:00:16   2023-10-01 01:06:13                  N   \n",
       "2         2  2023-10-01 00:51:52   2023-10-01 01:00:32                  N   \n",
       "3         2  2023-10-01 00:03:39   2023-10-01 00:11:20                  N   \n",
       "4         2  2023-10-01 00:27:42   2023-10-01 00:39:10                  N   \n",
       "\n",
       "   RatecodeID  PULocationID  DOLocationID  passenger_count  trip_distance  \\\n",
       "0         1.0           166            74              1.0           1.45   \n",
       "1         1.0            74            42              1.0           0.89   \n",
       "2         1.0            83           129              1.0           2.38   \n",
       "3         1.0            74           263              1.0           2.26   \n",
       "4         1.0            74           236              1.0           2.14   \n",
       "\n",
       "   fare_amount  extra  mta_tax  tip_amount  tolls_amount  ehail_fee  \\\n",
       "0         12.1    1.0      0.5        2.92           0.0        NaN   \n",
       "1          7.9    1.0      0.5        0.00           0.0        NaN   \n",
       "2         13.5    1.0      0.5        0.00           0.0        NaN   \n",
       "3         11.4    1.0      0.5        3.33           0.0        NaN   \n",
       "4         13.5    1.0      0.5        2.81           0.0        NaN   \n",
       "\n",
       "   improvement_surcharge  total_amount  payment_type  trip_type  \\\n",
       "0                    1.0         17.52           1.0        1.0   \n",
       "1                    1.0         10.40           2.0        1.0   \n",
       "2                    1.0         16.00           2.0        1.0   \n",
       "3                    1.0         19.98           1.0        1.0   \n",
       "4                    1.0         21.56           1.0        1.0   \n",
       "\n",
       "   congestion_surcharge  \n",
       "0                  0.00  \n",
       "1                  0.00  \n",
       "2                  0.00  \n",
       "3                  2.75  \n",
       "4                  2.75  "
      ]
     },
     "metadata": {},
     "output_type": "display_data"
    },
    {
     "data": {
      "text/html": [
       "<div>\n",
       "<style scoped>\n",
       "    .dataframe tbody tr th:only-of-type {\n",
       "        vertical-align: middle;\n",
       "    }\n",
       "\n",
       "    .dataframe tbody tr th {\n",
       "        vertical-align: top;\n",
       "    }\n",
       "\n",
       "    .dataframe thead th {\n",
       "        text-align: right;\n",
       "    }\n",
       "</style>\n",
       "<table border=\"1\" class=\"dataframe\">\n",
       "  <thead>\n",
       "    <tr style=\"text-align: right;\">\n",
       "      <th></th>\n",
       "      <th>VendorID</th>\n",
       "      <th>tpep_pickup_datetime</th>\n",
       "      <th>tpep_dropoff_datetime</th>\n",
       "      <th>passenger_count</th>\n",
       "      <th>trip_distance</th>\n",
       "      <th>RatecodeID</th>\n",
       "      <th>store_and_fwd_flag</th>\n",
       "      <th>PULocationID</th>\n",
       "      <th>DOLocationID</th>\n",
       "      <th>payment_type</th>\n",
       "      <th>fare_amount</th>\n",
       "      <th>extra</th>\n",
       "      <th>mta_tax</th>\n",
       "      <th>tip_amount</th>\n",
       "      <th>tolls_amount</th>\n",
       "      <th>improvement_surcharge</th>\n",
       "      <th>total_amount</th>\n",
       "      <th>congestion_surcharge</th>\n",
       "      <th>airport_fee</th>\n",
       "    </tr>\n",
       "  </thead>\n",
       "  <tbody>\n",
       "    <tr>\n",
       "      <th>0</th>\n",
       "      <td>2</td>\n",
       "      <td>2023-01-01 00:32:10</td>\n",
       "      <td>2023-01-01 00:40:36</td>\n",
       "      <td>1.0</td>\n",
       "      <td>0.97</td>\n",
       "      <td>1.0</td>\n",
       "      <td>N</td>\n",
       "      <td>161</td>\n",
       "      <td>141</td>\n",
       "      <td>2</td>\n",
       "      <td>9.3</td>\n",
       "      <td>1.00</td>\n",
       "      <td>0.5</td>\n",
       "      <td>0.00</td>\n",
       "      <td>0.0</td>\n",
       "      <td>1.0</td>\n",
       "      <td>14.30</td>\n",
       "      <td>2.5</td>\n",
       "      <td>0.00</td>\n",
       "    </tr>\n",
       "    <tr>\n",
       "      <th>1</th>\n",
       "      <td>2</td>\n",
       "      <td>2023-01-01 00:55:08</td>\n",
       "      <td>2023-01-01 01:01:27</td>\n",
       "      <td>1.0</td>\n",
       "      <td>1.10</td>\n",
       "      <td>1.0</td>\n",
       "      <td>N</td>\n",
       "      <td>43</td>\n",
       "      <td>237</td>\n",
       "      <td>1</td>\n",
       "      <td>7.9</td>\n",
       "      <td>1.00</td>\n",
       "      <td>0.5</td>\n",
       "      <td>4.00</td>\n",
       "      <td>0.0</td>\n",
       "      <td>1.0</td>\n",
       "      <td>16.90</td>\n",
       "      <td>2.5</td>\n",
       "      <td>0.00</td>\n",
       "    </tr>\n",
       "    <tr>\n",
       "      <th>2</th>\n",
       "      <td>2</td>\n",
       "      <td>2023-01-01 00:25:04</td>\n",
       "      <td>2023-01-01 00:37:49</td>\n",
       "      <td>1.0</td>\n",
       "      <td>2.51</td>\n",
       "      <td>1.0</td>\n",
       "      <td>N</td>\n",
       "      <td>48</td>\n",
       "      <td>238</td>\n",
       "      <td>1</td>\n",
       "      <td>14.9</td>\n",
       "      <td>1.00</td>\n",
       "      <td>0.5</td>\n",
       "      <td>15.00</td>\n",
       "      <td>0.0</td>\n",
       "      <td>1.0</td>\n",
       "      <td>34.90</td>\n",
       "      <td>2.5</td>\n",
       "      <td>0.00</td>\n",
       "    </tr>\n",
       "    <tr>\n",
       "      <th>3</th>\n",
       "      <td>1</td>\n",
       "      <td>2023-01-01 00:03:48</td>\n",
       "      <td>2023-01-01 00:13:25</td>\n",
       "      <td>0.0</td>\n",
       "      <td>1.90</td>\n",
       "      <td>1.0</td>\n",
       "      <td>N</td>\n",
       "      <td>138</td>\n",
       "      <td>7</td>\n",
       "      <td>1</td>\n",
       "      <td>12.1</td>\n",
       "      <td>7.25</td>\n",
       "      <td>0.5</td>\n",
       "      <td>0.00</td>\n",
       "      <td>0.0</td>\n",
       "      <td>1.0</td>\n",
       "      <td>20.85</td>\n",
       "      <td>0.0</td>\n",
       "      <td>1.25</td>\n",
       "    </tr>\n",
       "    <tr>\n",
       "      <th>4</th>\n",
       "      <td>2</td>\n",
       "      <td>2023-01-01 00:10:29</td>\n",
       "      <td>2023-01-01 00:21:19</td>\n",
       "      <td>1.0</td>\n",
       "      <td>1.43</td>\n",
       "      <td>1.0</td>\n",
       "      <td>N</td>\n",
       "      <td>107</td>\n",
       "      <td>79</td>\n",
       "      <td>1</td>\n",
       "      <td>11.4</td>\n",
       "      <td>1.00</td>\n",
       "      <td>0.5</td>\n",
       "      <td>3.28</td>\n",
       "      <td>0.0</td>\n",
       "      <td>1.0</td>\n",
       "      <td>19.68</td>\n",
       "      <td>2.5</td>\n",
       "      <td>0.00</td>\n",
       "    </tr>\n",
       "  </tbody>\n",
       "</table>\n",
       "</div>"
      ],
      "text/plain": [
       "   VendorID tpep_pickup_datetime tpep_dropoff_datetime  passenger_count  \\\n",
       "0         2  2023-01-01 00:32:10   2023-01-01 00:40:36              1.0   \n",
       "1         2  2023-01-01 00:55:08   2023-01-01 01:01:27              1.0   \n",
       "2         2  2023-01-01 00:25:04   2023-01-01 00:37:49              1.0   \n",
       "3         1  2023-01-01 00:03:48   2023-01-01 00:13:25              0.0   \n",
       "4         2  2023-01-01 00:10:29   2023-01-01 00:21:19              1.0   \n",
       "\n",
       "   trip_distance  RatecodeID store_and_fwd_flag  PULocationID  DOLocationID  \\\n",
       "0           0.97         1.0                  N           161           141   \n",
       "1           1.10         1.0                  N            43           237   \n",
       "2           2.51         1.0                  N            48           238   \n",
       "3           1.90         1.0                  N           138             7   \n",
       "4           1.43         1.0                  N           107            79   \n",
       "\n",
       "   payment_type  fare_amount  extra  mta_tax  tip_amount  tolls_amount  \\\n",
       "0             2          9.3   1.00      0.5        0.00           0.0   \n",
       "1             1          7.9   1.00      0.5        4.00           0.0   \n",
       "2             1         14.9   1.00      0.5       15.00           0.0   \n",
       "3             1         12.1   7.25      0.5        0.00           0.0   \n",
       "4             1         11.4   1.00      0.5        3.28           0.0   \n",
       "\n",
       "   improvement_surcharge  total_amount  congestion_surcharge  airport_fee  \n",
       "0                    1.0         14.30                   2.5         0.00  \n",
       "1                    1.0         16.90                   2.5         0.00  \n",
       "2                    1.0         34.90                   2.5         0.00  \n",
       "3                    1.0         20.85                   0.0         1.25  \n",
       "4                    1.0         19.68                   2.5         0.00  "
      ]
     },
     "metadata": {},
     "output_type": "display_data"
    }
   ],
   "source": [
    "url ='https://d37ci6vzurychx.cloudfront.net/trip-data/'\n",
    "filename_1 = 'green_tripdata_2023-10.parquet'\n",
    "filename_2 = \"yellow_tripdata_2023-01.parquet\"\n",
    "\n",
    "file_path_1, file_path_2 = [('').join([url, filename]) for filename in [filename_1, filename_2]]\n",
    "print(f\"The first file name is {file_path_1}\")\n",
    "print(f\"The second file name is {file_path_2}\")\n",
    "df_1 = pd.read_parquet(file_path_1)\n",
    "df_2 = pd.read_parquet(file_path_2)\n",
    "\n",
    "display(df_1.head())\n",
    "display(df_2.head())"
   ]
  },
  {
   "cell_type": "code",
   "execution_count": 15,
   "id": "fe1bf257",
   "metadata": {},
   "outputs": [
    {
     "data": {
      "text/plain": [
       "count     66177.000000\n",
       "mean         23.646511\n",
       "std        1041.951375\n",
       "min           0.000000\n",
       "25%           1.150000\n",
       "50%           1.920000\n",
       "90%           6.630000\n",
       "95%           9.140000\n",
       "max      184103.350000\n",
       "Name: trip_distance, dtype: float64"
      ]
     },
     "metadata": {},
     "output_type": "display_data"
    },
    {
     "name": "stdout",
     "output_type": "stream",
     "text": [
      "95% of the trip_distance values fallsbelow 9.14 miles\n"
     ]
    }
   ],
   "source": [
    "percentiles_df1 = df_1.trip_distance.describe(percentiles=[0.25,0.5,0.9,0.95])\n",
    "display(percentiles_df1)\n",
    "print(f\"95% of the trip_distance values falls\"\\\n",
    "    f\"below {percentiles_df1.loc['95%']} miles\")"
   ]
  },
  {
   "cell_type": "code",
   "execution_count": 38,
   "id": "771adf23",
   "metadata": {},
   "outputs": [
    {
     "data": {
      "text/plain": [
       "count    3.066766e+06\n",
       "mean     3.847342e+00\n",
       "std      2.495838e+02\n",
       "min      0.000000e+00\n",
       "25%      1.060000e+00\n",
       "50%      1.800000e+00\n",
       "90%      8.630000e+00\n",
       "95%      1.432000e+01\n",
       "99%      2.006000e+01\n",
       "max      2.589281e+05\n",
       "Name: trip_distance, dtype: float64"
      ]
     },
     "metadata": {},
     "output_type": "display_data"
    },
    {
     "name": "stdout",
     "output_type": "stream",
     "text": [
      "For YELLOW TAXIS 95% of the trip_distance values falls below 14.32 miles\n"
     ]
    }
   ],
   "source": [
    "percentiles_df2 = df_2.trip_distance.describe(percentiles=[0.25,0.5,0.9,0.95, 0.99])\n",
    "display(percentiles_df2)\n",
    "\n",
    "taxi_type = filename_2.split('_')[0].upper()\n",
    "print(f\"For {taxi_type} TAXIS 95% of the trip_distance values falls \"\\\n",
    "    f\"below {percentiles_df2.loc['95%']} miles\")"
   ]
  },
  {
   "cell_type": "code",
   "execution_count": null,
   "id": "80bf25cb",
   "metadata": {},
   "outputs": [
    {
     "data": {
      "text/plain": [
       "<Axes: >"
      ]
     },
     "execution_count": 41,
     "metadata": {},
     "output_type": "execute_result"
    },
    {
     "data": {
      "image/png": "[encoded data removed]",
      "text/plain": [
       "<Figure size 640x480 with 1 Axes>"
      ]
     },
     "metadata": {},
     "output_type": "display_data"
    }
   ],
   "source": [
    "# limit_95 = percentiles_df2.loc['95%']\n",
    "# limit_99 = percentiles_df2.loc['99%']\n",
    "# df2_95 = df_2.trip_distance[df_2.trip_distance <= limit_95]\n",
    "# df2_5 = df_2.trip_distance[(df_2.trip_distance > limit_95) & (df_2.trip_distance<limit_99)]\n",
    "# df2_95.hist(bins=100, weights=np.ones(len(df2_95))/len(df_2))\n",
    "# # plt.show()\n",
    "# df2_5.hist(bins=100, weights=np.ones(len(df2_5))/len(df_2))\n",
    "# # plt.xscale('log')"
   ]
  },
  {
   "cell_type": "code",
   "execution_count": null,
   "id": "1d903b40",
   "metadata": {},
   "outputs": [
    {
     "data": {
      "image/png": "[encoded data removed]",
      "text/plain": [
       "<Figure size 640x480 with 1 Axes>"
      ]
     },
     "metadata": {},
     "output_type": "display_data"
    },
    {
     "data": {
      "image/png": "[encoded data removed]",
      "text/plain": [
       "<Figure size 640x480 with 1 Axes>"
      ]
     },
     "metadata": {},
     "output_type": "display_data"
    }
   ],
   "source": [
    "limit_99 = percentiles_df2.loc['99%']\n",
    "df2_99 = df_2.trip_distance[df_2.trip_distance <= limit_99]\n",
    "df_tail  = df_2.trip_distance[(df_2.trip_distance > 100)]\n",
    "\n",
    "# df2_5 = df_2.trip_distance[(df_2.trip_distance > limit_95) & (df_2.trip_distance<limit_99)]\n",
    "df2_99.hist(bins=100, weights=np.ones(len(df2_99))/len(df_2))\n",
    "plt.show()\n",
    "df_tail.hist(bins=100, weights=np.ones(len(df_tail))/len(df_2))\n",
    "plt.xscale('log')"
   ]
  },
  {
   "cell_type": "code",
   "execution_count": 170,
   "id": "03d28099",
   "metadata": {},
   "outputs": [
    {
     "data": {
      "text/plain": [
       "0.8024"
      ]
     },
     "execution_count": 170,
     "metadata": {},
     "output_type": "execute_result"
    },
    {
     "data": {
      "image/png": "[encoded data removed]",
      "text/plain": [
       "<Figure size 640x480 with 1 Axes>"
      ]
     },
     "metadata": {},
     "output_type": "display_data"
    }
   ],
   "source": [
    "H=plt.hist(df2_99,bins=50, weights=np.ones(len(df2_99))/len(df_2))\n",
    "#  df2_99.hist(bins=100, weights=np.ones(len(df2_99))/len(df_2))\n",
    "ii = np.argmax(H[0])\n",
    "H[1][ii]"
   ]
  },
  {
   "cell_type": "code",
   "execution_count": 150,
   "id": "faeda898",
   "metadata": {},
   "outputs": [
    {
     "data": {
      "text/plain": [
       "[<matplotlib.lines.Line2D at 0x7fe70da8dc60>]"
      ]
     },
     "execution_count": 150,
     "metadata": {},
     "output_type": "execute_result"
    },
    {
     "data": {
      "image/png": "[encoded data removed]",
      "text/plain": [
       "<Figure size 640x480 with 1 Axes>"
      ]
     },
     "metadata": {},
     "output_type": "display_data"
    }
   ],
   "source": [
    "df_tripcounts  = pd.DataFrame(df2_99.value_counts().values, columns = ['counts'])\n",
    "df_tripcounts['dist'] = df2_99.value_counts().index\n",
    "df_tripcounts.sort_values(by='counts', inplace=True, ignore_index=True)\n",
    "# display(df_tripcounts.tail(50))\n",
    "x,y = df_tripcounts.dist, df_tripcounts.counts\n",
    "plt.plot(y, 'b.')\n",
    "\n",
    "\n"
   ]
  },
  {
   "cell_type": "code",
   "execution_count": null,
   "id": "df61824a",
   "metadata": {},
   "outputs": [
    {
     "data": {
      "text/plain": [
       "(6000.0, 12000.0)"
      ]
     },
     "execution_count": 151,
     "metadata": {},
     "output_type": "execute_result"
    },
    {
     "data": {
      "image/png": "[encoded data removed]",
      "text/plain": [
       "<Figure size 640x480 with 1 Axes>"
      ]
     },
     "metadata": {},
     "output_type": "display_data"
    }
   ],
   "source": [
    "plt.plot(y, 'b.')\n",
    "plt.xlim(1950, 2000)\n",
    "plt.ylim(6000, 12000)"
   ]
  },
  {
   "cell_type": "code",
   "execution_count": 157,
   "id": "cc5d9b6e",
   "metadata": {},
   "outputs": [
    {
     "data": {
      "text/plain": [
       "(1950.0, 2007.0)"
      ]
     },
     "execution_count": 157,
     "metadata": {},
     "output_type": "execute_result"
    },
    {
     "data": {
      "image/png": "[encoded data removed]",
      "text/plain": [
       "<Figure size 640x480 with 1 Axes>"
      ]
     },
     "metadata": {},
     "output_type": "display_data"
    }
   ],
   "source": [
    "plt.plot(np.diff(y), 'b.')\n",
    "plt.xlim(1950, len(y))\n",
    "# plt.ylim(6000, 12000)"
   ]
  },
  {
   "cell_type": "code",
   "execution_count": null,
   "id": "d6986eb4",
   "metadata": {},
   "outputs": [],
   "source": [
    "df_tripcounts.iloc[1970:]"
   ]
  },
  {
   "cell_type": "code",
   "execution_count": null,
   "id": "221be857",
   "metadata": {},
   "outputs": [],
   "source": [
    "display(df_tripcounts[df_tripcounts < 10000])\n",
    "display(df_tripcounts[df_tripcounts > 10000])"
   ]
  },
  {
   "cell_type": "markdown",
   "id": "ea7dd429",
   "metadata": {},
   "source": [
    "This shows that the 95% of the  values of the `trip_distance` colmun fall between `0`and  `9.14` for the fisrt file (yellow taxis) and between `0` and `14.32` for the second file (green taxies). Additionally, there is a supsicious high number of trip  with 0 miles.  \n",
    "The decision is to restrict the dataset to the 95%, considering the tail outliers, and to further restrict the trip length to a sensible distance (over 1 mile)   "
   ]
  },
  {
   "cell_type": "markdown",
   "id": "b95e774a",
   "metadata": {},
   "source": [
    "## Encoding"
   ]
  },
  {
   "cell_type": "code",
   "execution_count": 175,
   "id": "fa3dad44",
   "metadata": {},
   "outputs": [
    {
     "name": "stdout",
     "output_type": "stream",
     "text": [
      "<class 'pandas.core.frame.DataFrame'>\n",
      "RangeIndex: 3066766 entries, 0 to 3066765\n",
      "Data columns (total 19 columns):\n",
      " #   Column                 Dtype         \n",
      "---  ------                 -----         \n",
      " 0   VendorID               int64         \n",
      " 1   tpep_pickup_datetime   datetime64[us]\n",
      " 2   tpep_dropoff_datetime  datetime64[us]\n",
      " 3   passenger_count        float64       \n",
      " 4   trip_distance          float64       \n",
      " 5   RatecodeID             float64       \n",
      " 6   store_and_fwd_flag     object        \n",
      " 7   PULocationID           int64         \n",
      " 8   DOLocationID           int64         \n",
      " 9   payment_type           int64         \n",
      " 10  fare_amount            float64       \n",
      " 11  extra                  float64       \n",
      " 12  mta_tax                float64       \n",
      " 13  tip_amount             float64       \n",
      " 14  tolls_amount           float64       \n",
      " 15  improvement_surcharge  float64       \n",
      " 16  total_amount           float64       \n",
      " 17  congestion_surcharge   float64       \n",
      " 18  airport_fee            float64       \n",
      "dtypes: datetime64[us](2), float64(12), int64(4), object(1)\n",
      "memory usage: 444.6+ MB\n"
     ]
    }
   ],
   "source": [
    "df_2.info()"
   ]
  },
  {
   "cell_type": "code",
   "execution_count": null,
   "id": "5a43909d",
   "metadata": {},
   "outputs": [],
   "source": [
    "# %%\n",
    "from scipy.signal  import  find_peaks\n",
    "import matplotlib.pyplot as plt\n",
    "counts, bin_edges = np.histogram(DF.duration, bins=50)\n",
    "\n",
    "\n",
    "peaks, _ = find_peaks(counts, height=0)  \n",
    "bin_centers = (bin_edges[:-1] + bin_edges[1:]) / 2\n",
    "plt.hist(DF.duration, bins=50)\n",
    "plt.plot(bin_centers[peaks], counts[peaks], \"ro\")  # mark peaks\n",
    "plt.show()"
   ]
  }
 ],
 "metadata": {
  "kernelspec": {
   "display_name": "sklearn",
   "language": "python",
   "name": "python3"
  },
  "language_info": {
   "codemirror_mode": {
    "name": "ipython",
    "version": 3
   },
   "file_extension": ".py",
   "mimetype": "text/x-python",
   "name": "python",
   "nbconvert_exporter": "python",
   "pygments_lexer": "ipython3",
   "version": "3.10.11"
  }
 },
 "nbformat": 4,
 "nbformat_minor": 5
}
